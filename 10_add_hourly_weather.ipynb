{
 "cells": [
  {
   "cell_type": "code",
   "execution_count": null,
   "id": "7705424e",
   "metadata": {},
   "outputs": [],
   "source": [
    "import pandas as pd\n",
    "import xarray as xr\n",
    "import numpy as np\n",
    "from read_openmeteo_hour import read_openmeteo\n",
    "\n",
    "meta = pd.read_csv('metadata5000best.csv')\n",
    "data = pd.read_csv('stations_complete_2016_2019_1h.csv')\n",
    "\n",
    "\n",
    "meta = meta.set_index('Unnamed: 0')\n",
    "meta = meta.drop('Unnamed: 0.1', axis = 1)\n",
    "meta.index.name = 'stacja'\n",
    "data = data.set_index('date')\n",
    "data.index.name = 'date'\n",
    "\n",
    "data_long = data.reset_index().melt(id_vars = 'date', var_name = 'stacja', value_name = 'pm25')\n",
    "data_long[\"date\"] = pd.to_datetime(data_long[\"date\"], utc=True, format='mixed')\n",
    "data_long['date'] =data_long['date'].dt.round('H')\n",
    "\n",
    "data_long"
   ]
  },
  {
   "cell_type": "code",
   "execution_count": null,
   "id": "4ab35a94",
   "metadata": {},
   "outputs": [],
   "source": [
    "import time\n",
    "\n",
    "meta2 = meta.copy()\n",
    "\n",
    "\n",
    "all_weather = []\n",
    "elevations = []\n",
    "\n",
    "\n",
    "for stacja, lon, lat in zip(meta.index, meta['lon'], meta['lat']):\n",
    "    print(f\"Pobieram pogodę dla {stacja} ({lat}, {lon})...\")\n",
    "    \n",
    "    df_weather, elevation = read_openmeteo(lon, lat)\n",
    "    \n",
    "    elevations.append(elevation)\n",
    "    \n",
    "    if df_weather.index.name == \"date\" or df_weather.index.dtype.kind == \"M\":\n",
    "        df_weather = df_weather.reset_index()\n",
    "    \n",
    "    df_weather[\"stacja\"] = stacja\n",
    "    all_weather.append(df_weather)\n",
    "    \n",
    "    print(\"Wait 15 seconds before next request...\")\n",
    "    time.sleep(6)\n",
    "\n",
    "meta2[\"elevation\"] = elevations\n",
    "\n",
    "df_weather_all = pd.concat(all_weather, ignore_index=True)\n",
    "\n",
    "df_weather_all[\"date\"] = pd.to_datetime(df_weather_all[\"date\"], utc=True)\n",
    "\n",
    "df_weather_all[\"date\"] = df_weather_all[\"date\"].dt.tz_convert('Europe/Warsaw')\n",
    "\n",
    "\n",
    "df_full = pd.merge(data_long, df_weather_all, on=[\"date\", \"stacja\"], how=\"inner\")\n",
    "\n",
    "print(meta2)\n",
    "print(df_full)"
   ]
  },
  {
   "cell_type": "code",
   "execution_count": null,
   "id": "7ffa37c8",
   "metadata": {},
   "outputs": [],
   "source": [
    "\n",
    "df_full.to_csv('stations_weather_2016_2019_1h.csv')\n",
    "meta2.to_csv('meta_elevation.csv')"
   ]
  }
 ],
 "metadata": {
  "language_info": {
   "name": "python"
  }
 },
 "nbformat": 4,
 "nbformat_minor": 5
}
